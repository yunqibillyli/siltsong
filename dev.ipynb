{
 "cells": [
  {
   "cell_type": "code",
   "execution_count": 1,
   "id": "dbbe7543-72ca-48ff-9b55-70b7f1f6980d",
   "metadata": {},
   "outputs": [],
   "source": [
    "from math import pi, sin, cos\n",
    "\n",
    "from siltsong.stars import blackbody\n",
    "from siltsong.dust import mrn, thermal_emission, henyey_greenstein\n",
    "from siltsong import cartesian_to_spherical, plot_density, plot_density_powernorm, plot_density_lognorm, radiative_transfer"
   ]
  },
  {
   "cell_type": "code",
   "execution_count": 2,
   "id": "56a20f06-57a7-4635-be09-8730502d134f",
   "metadata": {},
   "outputs": [],
   "source": [
    "view_length = 1e16\n",
    "distance_steps = 200\n",
    "theta_steps = 360\n",
    "phi_steps = 360\n",
    "distance_substeps = 10\n",
    "dr = view_length / 2 / distance_steps\n",
    "ds = dr / distance_substeps\n",
    "dphi = pi / phi_steps\n",
    "\n",
    "resolution = 201\n",
    "depth = 201\n",
    "depth_substeps = 10\n",
    "dw = view_length / depth\n",
    "ds_depth = dw / depth_substeps\n",
    "grid_size = view_length / resolution\n",
    "\n",
    "inclination_degrees = 60\n",
    "inclination = pi * (inclination_degrees / 180)\n",
    "sin_inc = sin(inclination)\n",
    "cos_inc = cos(inclination)\n",
    "\n",
    "ms_count = 1e5\n",
    "\n",
    "wavelength = 5.47e-5\n",
    "\n",
    "grain_size_min = 5e-7\n",
    "grain_size_max = 1e-4\n",
    "exponent = -3.5\n",
    "rho_gr = 3\n",
    "sigma_rho_gr = 1.109"
   ]
  },
  {
   "cell_type": "code",
   "execution_count": 3,
   "id": "12dd6f30-b822-4d6e-8d53-f2b32f6ec575",
   "metadata": {},
   "outputs": [
    {
     "name": "stderr",
     "output_type": "stream",
     "text": [
      "/Library/Frameworks/Python.framework/Versions/3.13/lib/python3.13/site-packages/siltsong/dust.py:17: IntegrationWarning: The maximum number of subdivisions (50) has been achieved.\n",
      "  If increasing the limit yields no improvement it is advised to analyze \n",
      "  the integrand in order to determine the difficulties.  If the position of a \n",
      "  local difficulty can be determined (singularity, discontinuity) one will \n",
      "  probably gain from splitting up the interval and calling the integrator \n",
      "  on the subranges.  Perhaps a special-purpose integrator should be used.\n",
      "  scattering_efficiency_integral = quad(lambda a: a ** (2 + exponent) * Q_sca_lambda(2 * pi * a / wavelength), grain_size_min, grain_size_max)[0] # integral after P in formual A8 of Li et al. 2024\n",
      "/Library/Frameworks/Python.framework/Versions/3.13/lib/python3.13/site-packages/siltsong/dust.py:18: IntegrationWarning: The maximum number of subdivisions (50) has been achieved.\n",
      "  If increasing the limit yields no improvement it is advised to analyze \n",
      "  the integrand in order to determine the difficulties.  If the position of a \n",
      "  local difficulty can be determined (singularity, discontinuity) one will \n",
      "  probably gain from splitting up the interval and calling the integrator \n",
      "  on the subranges.  Perhaps a special-purpose integrator should be used.\n",
      "  extinction_efficiency_integral = quad(lambda a: a ** (2 + exponent) * Q_ext_lambda(2 * pi * a / wavelength), grain_size_min, grain_size_max)[0] # integral after P in formual A9 of Li et al. 2024\n",
      "/Library/Frameworks/Python.framework/Versions/3.13/lib/python3.13/site-packages/siltsong/dust.py:32: RuntimeWarning: overflow encountered in exp\n",
      "  return (2 * h * c ** 2 / wavelength ** 5) / (np.exp(h * c / (wavelength * k_B * temperature)) - 1)\n"
     ]
    }
   ],
   "source": [
    "central_source = blackbody(wavelength, temperature = 20000)\n",
    "    \n",
    "sca_cm_squared_per_g, ext_cm_squared_per_g = mrn(grain_size_min, grain_size_max, exponent, rho_gr, sigma_rho_gr, wavelength)\n",
    "\n",
    "sca_cm_squared_per_g, ext_cm_squared_per_g = mrn() # Alternatively use default parameters, identical to above\n",
    "\n",
    "source_function = thermal_emission(wavelength, temperature = 10)\n",
    "\n",
    "def scattering_phase_function(angle):\n",
    "    return henyey_greenstein(angle, asymmetry_constant = 0.6)"
   ]
  },
  {
   "cell_type": "code",
   "execution_count": null,
   "id": "a5e5f558-9c23-4967-8556-781b7f516ea8",
   "metadata": {},
   "outputs": [],
   "source": [
    "def density_spherical(r, theta):\n",
    "    if r <= 2e14 or r > 4e15:\n",
    "        return 0\n",
    "    return 10 / r ** 2\n",
    "\n",
    "def density_cartesian(x, y, z):\n",
    "    r, theta, _ = cartesian_to_spherical(x, y, z)\n",
    "    return density_spherical(r, theta)"
   ]
  },
  {
   "cell_type": "code",
   "execution_count": null,
   "id": "5ad76984-5c08-476f-952e-910663c5e485",
   "metadata": {},
   "outputs": [],
   "source": [
    "plot_density(density_cartesian, view_length)"
   ]
  },
  {
   "cell_type": "code",
   "execution_count": null,
   "id": "00d73e48-d3f6-43f3-84de-1600f376bd15",
   "metadata": {},
   "outputs": [],
   "source": [
    "plot_density_powernorm(density_cartesian, view_length, power = 0.2)"
   ]
  },
  {
   "cell_type": "code",
   "execution_count": null,
   "id": "dbeccb8c-8091-42fd-a515-26e25fc55d5f",
   "metadata": {},
   "outputs": [],
   "source": [
    "plot_density_lognorm(density_cartesian, view_length)"
   ]
  },
  {
   "cell_type": "code",
   "execution_count": null,
   "id": "23a8b020-0588-4b3b-bedc-39f57b9d02a2",
   "metadata": {},
   "outputs": [],
   "source": [
    "def density_spherical(r, theta):\n",
    "    if r <= 2e14 or r > 4e15:\n",
    "        return 0\n",
    "    return 10 / r ** 2\n",
    "\n",
    "def density_cartesian(x, y, z):\n",
    "    r, theta, _ = cartesian_to_spherical(x, y, z)\n",
    "    return density_spherical(r, theta)\n",
    "\n",
    "image = radiative_transfer(view_length, inclination_degrees, resolution, \n",
    "                           central_source, \n",
    "                           density_spherical, density_cartesian, \n",
    "                           sca_cm_squared_per_g, ext_cm_squared_per_g, source_function, scattering_phase_function, \n",
    "                           depth, depth_substeps, distance_steps, distance_substeps, theta_steps, phi_steps, \n",
    "                           ms_count, axisymmetry = True, reflection_symmetry = True, include_central_source_self = True)"
   ]
  },
  {
   "cell_type": "code",
   "execution_count": null,
   "id": "7b60c7f9-e6ac-41d9-b3bd-a0875c758478",
   "metadata": {},
   "outputs": [],
   "source": [
    "image = radiative_transfer(view_length, inclination_degrees, resolution, \n",
    "                           central_source, \n",
    "                           density_spherical, density_cartesian, \n",
    "                           sca_cm_squared_per_g, ext_cm_squared_per_g, source_function, scattering_phase_function, \n",
    "                           depth, depth_substeps, distance_steps, distance_substeps, theta_steps, phi_steps, \n",
    "                           ms_count, axisymmetry = True, reflection_symmetry = False, include_central_source_self = True)"
   ]
  },
  {
   "cell_type": "code",
   "execution_count": null,
   "id": "ff56ade7-f4ac-403a-97bc-00cb89374a9d",
   "metadata": {},
   "outputs": [],
   "source": [
    "image = radiative_transfer(view_length, inclination_degrees, resolution, \n",
    "                           central_source, \n",
    "                           density_spherical, density_cartesian, \n",
    "                           sca_cm_squared_per_g, ext_cm_squared_per_g, source_function, scattering_phase_function, \n",
    "                           depth, depth_substeps, distance_steps, distance_substeps, theta_steps, phi_steps, \n",
    "                           ms_count, axisymmetry = True, reflection_symmetry = False, include_central_source_self = False)"
   ]
  },
  {
   "cell_type": "code",
   "execution_count": null,
   "id": "ace115c6-caa8-46e1-97cb-5a302b5f85da",
   "metadata": {},
   "outputs": [],
   "source": [
    "image = radiative_transfer(view_length, inclination_degrees, resolution, \n",
    "                           central_source, \n",
    "                           density_spherical, density_cartesian, \n",
    "                           sca_cm_squared_per_g, ext_cm_squared_per_g, source_function, scattering_phase_function, \n",
    "                           depth, depth_substeps, distance_steps, distance_substeps, theta_steps, phi_steps, \n",
    "                           ms_count, axisymmetry = True, reflection_symmetry = False, include_central_source_self = False)"
   ]
  },
  {
   "cell_type": "code",
   "execution_count": 4,
   "id": "8129fd25-8582-4247-b715-be0d5a20b413",
   "metadata": {},
   "outputs": [
    {
     "name": "stdout",
     "output_type": "stream",
     "text": [
      "Sending photons from the central source(s). \n",
      "Tracing single scattered photons: \n"
     ]
    },
    {
     "name": "stderr",
     "output_type": "stream",
     "text": [
      "100%|█████████████████████████████████████████| 360/360 [02:21<00:00,  2.54it/s]\n"
     ]
    },
    {
     "name": "stdout",
     "output_type": "stream",
     "text": [
      "Tracing multiple scattered photons: \n"
     ]
    },
    {
     "name": "stderr",
     "output_type": "stream",
     "text": [
      "100%|█████████████████████████████████| 100000/100000 [01:17<00:00, 1293.81it/s]\n"
     ]
    },
    {
     "name": "stdout",
     "output_type": "stream",
     "text": [
      "Performing peel-off: \n"
     ]
    },
    {
     "name": "stderr",
     "output_type": "stream",
     "text": [
      "100%|█████████████████████████████████████████| 201/201 [00:46<00:00,  4.29it/s]\n"
     ]
    }
   ],
   "source": [
    "def density_spherical(r, theta, phi):\n",
    "    if r <= 2e14 or r > 4e15:\n",
    "        return 0\n",
    "    return 10 / r ** 2\n",
    "\n",
    "def density_cartesian(x, y, z):\n",
    "    r, theta, phi = cartesian_to_spherical(x, y, z)\n",
    "    return density_spherical(r, theta, phi)\n",
    "\n",
    "image = radiative_transfer(view_length, inclination_degrees, resolution, \n",
    "                           central_source, \n",
    "                           density_spherical, density_cartesian, \n",
    "                           sca_cm_squared_per_g, ext_cm_squared_per_g, source_function, scattering_phase_function, \n",
    "                           depth, depth_substeps, distance_steps, distance_substeps, theta_steps, phi_steps, \n",
    "                           ms_count, axisymmetry = False, reflection_symmetry = True, include_central_source_self = True)"
   ]
  },
  {
   "cell_type": "code",
   "execution_count": 6,
   "id": "b3270f69-119a-497b-9516-ab04391d4591",
   "metadata": {},
   "outputs": [
    {
     "data": {
      "image/png": "[encoded data removed]",
      "text/plain": [
       "<Figure size 640x480 with 2 Axes>"
      ]
     },
     "metadata": {},
     "output_type": "display_data"
    },
    {
     "name": "stderr",
     "output_type": "stream",
     "text": [
      "Exception ignored in: <function ResourceTracker.__del__ at 0x104b493a0>\n",
      "Traceback (most recent call last):\n",
      "  File \"/Library/Frameworks/Python.framework/Versions/3.13/lib/python3.13/multiprocessing/resource_tracker.py\", line 82, in __del__\n",
      "  File \"/Library/Frameworks/Python.framework/Versions/3.13/lib/python3.13/multiprocessing/resource_tracker.py\", line 91, in _stop\n",
      "  File \"/Library/Frameworks/Python.framework/Versions/3.13/lib/python3.13/multiprocessing/resource_tracker.py\", line 116, in _stop_locked\n",
      "ChildProcessError: [Errno 10] No child processes\n",
      "Exception ignored in: <function ResourceTracker.__del__ at 0x1039e13a0>\n",
      "Traceback (most recent call last):\n",
      "  File \"/Library/Frameworks/Python.framework/Versions/3.13/lib/python3.13/multiprocessing/resource_tracker.py\", line 82, in __del__\n",
      "  File \"/Library/Frameworks/Python.framework/Versions/3.13/lib/python3.13/multiprocessing/resource_tracker.py\", line 91, in _stop\n",
      "  File \"/Library/Frameworks/Python.framework/Versions/3.13/lib/python3.13/multiprocessing/resource_tracker.py\", line 116, in _stop_locked\n",
      "ChildProcessError: [Errno 10] No child processes\n",
      "Exception ignored in: <function ResourceTracker.__del__ at 0x110c413a0>\n",
      "Traceback (most recent call last):\n",
      "  File \"/Library/Frameworks/Python.framework/Versions/3.13/lib/python3.13/multiprocessing/resource_tracker.py\", line 82, in __del__\n",
      "  File \"/Library/Frameworks/Python.framework/Versions/3.13/lib/python3.13/multiprocessing/resource_tracker.py\", line 91, in _stop\n",
      "  File \"/Library/Frameworks/Python.framework/Versions/3.13/lib/python3.13/multiprocessing/resource_tracker.py\", line 116, in _stop_locked\n",
      "ChildProcessError: [Errno 10] No child processes\n",
      "Exception ignored in: <function ResourceTracker.__del__ at 0x1066593a0>\n",
      "Traceback (most recent call last):\n",
      "  File \"/Library/Frameworks/Python.framework/Versions/3.13/lib/python3.13/multiprocessing/resource_tracker.py\", line 82, in __del__\n",
      "  File \"/Library/Frameworks/Python.framework/Versions/3.13/lib/python3.13/multiprocessing/resource_tracker.py\", line 91, in _stop\n",
      "  File \"/Library/Frameworks/Python.framework/Versions/3.13/lib/python3.13/multiprocessing/resource_tracker.py\", line 116, in _stop_locked\n",
      "ChildProcessError: [Errno 10] No child processes\n",
      "Exception ignored in: <function ResourceTracker.__del__ at 0x1033b13a0>\n",
      "Traceback (most recent call last):\n",
      "  File \"/Library/Frameworks/Python.framework/Versions/3.13/lib/python3.13/multiprocessing/resource_tracker.py\", line 82, in __del__\n",
      "  File \"/Library/Frameworks/Python.framework/Versions/3.13/lib/python3.13/multiprocessing/resource_tracker.py\", line 91, in _stop\n",
      "  File \"/Library/Frameworks/Python.framework/Versions/3.13/lib/python3.13/multiprocessing/resource_tracker.py\", line 116, in _stop_locked\n",
      "ChildProcessError: [Errno 10] No child processes\n",
      "Exception ignored in: <function ResourceTracker.__del__ at 0x103be13a0>\n",
      "Traceback (most recent call last):\n",
      "  File \"/Library/Frameworks/Python.framework/Versions/3.13/lib/python3.13/multiprocessing/resource_tracker.py\", line 82, in __del__\n",
      "  File \"/Library/Frameworks/Python.framework/Versions/3.13/lib/python3.13/multiprocessing/resource_tracker.py\", line 91, in _stop\n",
      "  File \"/Library/Frameworks/Python.framework/Versions/3.13/lib/python3.13/multiprocessing/resource_tracker.py\", line 116, in _stop_locked\n",
      "ChildProcessError: [Errno 10] No child processes\n",
      "Exception ignored in: <function ResourceTracker.__del__ at 0x1076e53a0>\n",
      "Traceback (most recent call last):\n",
      "  File \"/Library/Frameworks/Python.framework/Versions/3.13/lib/python3.13/multiprocessing/resource_tracker.py\", line 82, in __del__\n",
      "  File \"/Library/Frameworks/Python.framework/Versions/3.13/lib/python3.13/multiprocessing/resource_tracker.py\", line 91, in _stop\n",
      "  File \"/Library/Frameworks/Python.framework/Versions/3.13/lib/python3.13/multiprocessing/resource_tracker.py\", line 116, in _stop_locked\n",
      "ChildProcessError: [Errno 10] No child processes\n",
      "Exception ignored in: <function ResourceTracker.__del__ at 0x1031c93a0>\n",
      "Traceback (most recent call last):\n",
      "  File \"/Library/Frameworks/Python.framework/Versions/3.13/lib/python3.13/multiprocessing/resource_tracker.py\", line 82, in __del__\n",
      "  File \"/Library/Frameworks/Python.framework/Versions/3.13/lib/python3.13/multiprocessing/resource_tracker.py\", line 91, in _stop\n",
      "  File \"/Library/Frameworks/Python.framework/Versions/3.13/lib/python3.13/multiprocessing/resource_tracker.py\", line 116, in _stop_locked\n",
      "ChildProcessError: [Errno 10] No child processes\n",
      "Exception ignored in: <function ResourceTracker.__del__ at 0x1069113a0>\n",
      "Traceback (most recent call last):\n",
      "  File \"/Library/Frameworks/Python.framework/Versions/3.13/lib/python3.13/multiprocessing/resource_tracker.py\", line 82, in __del__\n",
      "  File \"/Library/Frameworks/Python.framework/Versions/3.13/lib/python3.13/multiprocessing/resource_tracker.py\", line 91, in _stop\n",
      "  File \"/Library/Frameworks/Python.framework/Versions/3.13/lib/python3.13/multiprocessing/resource_tracker.py\", line 116, in _stop_locked\n",
      "ChildProcessError: [Errno 10] No child processes\n",
      "Exception ignored in: <function ResourceTracker.__del__ at 0x1025593a0>\n",
      "Traceback (most recent call last):\n",
      "  File \"/Library/Frameworks/Python.framework/Versions/3.13/lib/python3.13/multiprocessing/resource_tracker.py\", line 82, in __del__\n",
      "  File \"/Library/Frameworks/Python.framework/Versions/3.13/lib/python3.13/multiprocessing/resource_tracker.py\", line 91, in _stop\n",
      "  File \"/Library/Frameworks/Python.framework/Versions/3.13/lib/python3.13/multiprocessing/resource_tracker.py\", line 116, in _stop_locked\n",
      "ChildProcessError: [Errno 10] No child processes\n"
     ]
    }
   ],
   "source": [
    "import numpy as np\n",
    "import matplotlib.pyplot as plt\n",
    "from matplotlib.colors import LogNorm\n",
    "\n",
    "buffer = np.min(image[image > 0])\n",
    "buffered_image = image.copy()\n",
    "buffered_image[buffered_image <= buffer] = buffer\n",
    "\n",
    "plt.imshow(buffered_image, origin = 'lower', cmap = 'afmhot', norm = LogNorm())\n",
    "plt.colorbar()\n",
    "plt.show()"
   ]
  },
  {
   "cell_type": "code",
   "execution_count": null,
   "id": "9d6ccd36-ffc4-489f-8336-0d19663ccabf",
   "metadata": {},
   "outputs": [],
   "source": [
    "# END"
   ]
  }
 ],
 "metadata": {
  "kernelspec": {
   "display_name": "Python 3 (ipykernel)",
   "language": "python",
   "name": "python3"
  },
  "language_info": {
   "codemirror_mode": {
    "name": "ipython",
    "version": 3
   },
   "file_extension": ".py",
   "mimetype": "text/x-python",
   "name": "python",
   "nbconvert_exporter": "python",
   "pygments_lexer": "ipython3",
   "version": "3.13.3"
  }
 },
 "nbformat": 4,
 "nbformat_minor": 5
}
